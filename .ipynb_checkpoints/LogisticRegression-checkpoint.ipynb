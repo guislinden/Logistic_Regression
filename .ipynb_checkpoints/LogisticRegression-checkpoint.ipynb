{
 "cells": [
  {
   "cell_type": "markdown",
   "metadata": {},
   "source": [
    "## Regressão Logística com o R\n",
    "\n",
    "Olá! \n",
    "\n",
    "Para começarmos a regressão logística, precisaremos destas seguintes bibliotecas no R. Caso não tenha alguma delas, poderá inserir o código `install.packages(\"packagename\")`. "
   ]
  },
  {
   "cell_type": "code",
   "execution_count": 69,
   "metadata": {
    "scrolled": true
   },
   "outputs": [
    {
     "ename": "ERROR",
     "evalue": "Error in library(corrplot): there is no package called 'corrplot'\n",
     "output_type": "error",
     "traceback": [
      "Error in library(corrplot): there is no package called 'corrplot'\nTraceback:\n",
      "1. library(corrplot)",
      "2. stop(txt, domain = NA)"
     ]
    }
   ],
   "source": [
    "#Aqui já carregaremos todas as bibliotecas que usaremos nesse exercício de R \n",
    "library(XML)\n",
    "library(titanic) \n",
    "library(aod)\n",
    "library(ggplot2)\n",
    "library(corrplot)\n",
    "library(caret)\n",
    "library(ROCR)\n",
    "\n",
    "#Vamos pegar a nossa dataset\n",
    "df <-read.csv(\"https://raw.githubusercontent.com/guislinden/Logistic_Regression/master/perfume_data.csv\", sep = \",\")\n",
    "#com essa função, poderemos ver o cabeçalho dos nossos dados para entender o que ele é e como ele está estruturado. \n",
    "head(data)"
   ]
  },
  {
   "cell_type": "markdown",
   "metadata": {},
   "source": [
    "#### Contexto\n",
    "Dados que uma pesquisa de demanda para uma perfumaria, onde foi apontado diversas perguntas e dados no contexto de ver se um indivíduo gostava ou não instantaneamente de um perfume, o que aumentava drasticamente suas chances de adquiri-lo. \n",
    "\n",
    "#### Conteúdo \n",
    "##### Variável Dependente\n",
    "- Instant Liking\n",
    "\n",
    "##### Variáveis Independentes \n",
    "- ID do respondente \n",
    "- ID do produto\n",
    "- \n",
    "- \n",
    "- \n",
    "\n",
    "#### Objetivo\n",
    "Visualizar quais as principais variáveis para que um indivíduo possa vir a admirar o perfume instantaneamente, utilizando Regressão Logística. "
   ]
  },
  {
   "cell_type": "code",
   "execution_count": 68,
   "metadata": {},
   "outputs": [
    {
     "ename": "ERROR",
     "evalue": "Error in cor(dfForCorr): 'x' must be numeric\n",
     "output_type": "error",
     "traceback": [
      "Error in cor(dfForCorr): 'x' must be numeric\nTraceback:\n",
      "1. cor(dfForCorr)",
      "2. stop(\"'x' must be numeric\")"
     ]
    }
   ],
   "source": [
    "#Vamos remover as variáveis desnecessárias\n",
    "dfForCorr<-df\n",
    "dfForCorr$Respondent.ID <- NULL\n",
    "dfForCorr$Product.ID <- NULL\n",
    "\n",
    "#Plotting correlation\n",
    "dfCor <- cor(dfForCorr)\n",
    "corrplot(dfCor)\n"
   ]
  },
  {
   "cell_type": "code",
   "execution_count": null,
   "metadata": {},
   "outputs": [
    {
     "name": "stderr",
     "output_type": "stream",
     "text": [
      "Installing package into 'C:/Users/User/Documents/R/win-library/3.4'\n",
      "(as 'lib' is unspecified)\n"
     ]
    }
   ],
   "source": [
    "install.packages(\"corrplot\")"
   ]
  },
  {
   "cell_type": "code",
   "execution_count": null,
   "metadata": {},
   "outputs": [],
   "source": []
  }
 ],
 "metadata": {
  "kernelspec": {
   "display_name": "R",
   "language": "R",
   "name": "ir"
  },
  "language_info": {
   "codemirror_mode": "r",
   "file_extension": ".r",
   "mimetype": "text/x-r-source",
   "name": "R",
   "pygments_lexer": "r",
   "version": "3.4.3"
  }
 },
 "nbformat": 4,
 "nbformat_minor": 2
}
