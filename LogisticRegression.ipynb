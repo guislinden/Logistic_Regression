{
 "cells": [
  {
   "cell_type": "markdown",
   "metadata": {},
   "source": [
    "## Regressão Logística com o R\n",
    "\n",
    "Olá! \n",
    "\n",
    "Para começarmos a regressão logística, precisaremos destas seguintes bibliotecas no R. Caso não tenha alguma delas, poderá inserir o código `install.packages(\"packagename\")`. "
   ]
  },
  {
   "cell_type": "code",
   "execution_count": 2,
   "metadata": {},
   "outputs": [
    {
     "ename": "ERROR",
     "evalue": "Error in library(ROCR): there is no package called 'ROCR'\n",
     "output_type": "error",
     "traceback": [
      "Error in library(ROCR): there is no package called 'ROCR'\nTraceback:\n",
      "1. library(ROCR)",
      "2. stop(txt, domain = NA)"
     ]
    }
   ],
   "source": [
    "#install.packages(\"caret\")\n",
    "#install.packages(\"ROCR\")\n",
    "library(titanic) \n",
    "library(aod)\n",
    "library(ggplot2)\n",
    "library(dummies)\n",
    "library(caret)\n",
    "library(ROCR)"
   ]
  },
  {
   "cell_type": "code",
   "execution_count": 9,
   "metadata": {},
   "outputs": [],
   "source": [
    "data(\"titanic_train\")\n",
    "data(\"titanic_test\")\n"
   ]
  },
  {
   "cell_type": "code",
   "execution_count": 12,
   "metadata": {},
   "outputs": [
    {
     "name": "stdout",
     "output_type": "stream",
     "text": [
      "'data.frame':\t1309 obs. of  12 variables:\n",
      " $ PassengerId: int  1 2 3 4 5 6 7 8 9 10 ...\n",
      " $ Survived   : int  0 1 1 1 0 0 0 0 1 1 ...\n",
      " $ Pclass     : int  3 1 3 1 3 3 1 3 3 2 ...\n",
      " $ Name       : chr  \"Braund, Mr. Owen Harris\" \"Cumings, Mrs. John Bradley (Florence Briggs Thayer)\" \"Heikkinen, Miss. Laina\" \"Futrelle, Mrs. Jacques Heath (Lily May Peel)\" ...\n",
      " $ Sex        : chr  \"male\" \"female\" \"female\" \"female\" ...\n",
      " $ Age        : num  22 38 26 35 35 NA 54 2 27 14 ...\n",
      " $ SibSp      : int  1 1 0 1 0 0 0 3 0 1 ...\n",
      " $ Parch      : int  0 0 0 0 0 0 0 1 2 0 ...\n",
      " $ Ticket     : chr  \"A/5 21171\" \"PC 17599\" \"STON/O2. 3101282\" \"113803\" ...\n",
      " $ Fare       : num  7.25 71.28 7.92 53.1 8.05 ...\n",
      " $ Cabin      : chr  \"\" \"C85\" \"\" \"C123\" ...\n",
      " $ Embarked   : chr  \"S\" \"C\" \"S\" \"S\" ...\n"
     ]
    },
    {
     "data": {
      "text/html": [
       "<dl class=dl-horizontal>\n",
       "\t<dt>PassengerId</dt>\n",
       "\t\t<dd>0</dd>\n",
       "\t<dt>Survived</dt>\n",
       "\t\t<dd>418</dd>\n",
       "\t<dt>Pclass</dt>\n",
       "\t\t<dd>0</dd>\n",
       "\t<dt>Name</dt>\n",
       "\t\t<dd>0</dd>\n",
       "\t<dt>Sex</dt>\n",
       "\t\t<dd>0</dd>\n",
       "\t<dt>Age</dt>\n",
       "\t\t<dd>263</dd>\n",
       "\t<dt>SibSp</dt>\n",
       "\t\t<dd>0</dd>\n",
       "\t<dt>Parch</dt>\n",
       "\t\t<dd>0</dd>\n",
       "\t<dt>Ticket</dt>\n",
       "\t\t<dd>0</dd>\n",
       "\t<dt>Fare</dt>\n",
       "\t\t<dd>1</dd>\n",
       "\t<dt>Cabin</dt>\n",
       "\t\t<dd>0</dd>\n",
       "\t<dt>Embarked</dt>\n",
       "\t\t<dd>0</dd>\n",
       "</dl>\n"
      ],
      "text/latex": [
       "\\begin{description*}\n",
       "\\item[PassengerId] 0\n",
       "\\item[Survived] 418\n",
       "\\item[Pclass] 0\n",
       "\\item[Name] 0\n",
       "\\item[Sex] 0\n",
       "\\item[Age] 263\n",
       "\\item[SibSp] 0\n",
       "\\item[Parch] 0\n",
       "\\item[Ticket] 0\n",
       "\\item[Fare] 1\n",
       "\\item[Cabin] 0\n",
       "\\item[Embarked] 0\n",
       "\\end{description*}\n"
      ],
      "text/markdown": [
       "PassengerId\n",
       ":   0Survived\n",
       ":   418Pclass\n",
       ":   0Name\n",
       ":   0Sex\n",
       ":   0Age\n",
       ":   263SibSp\n",
       ":   0Parch\n",
       ":   0Ticket\n",
       ":   0Fare\n",
       ":   1Cabin\n",
       ":   0Embarked\n",
       ":   0\n",
       "\n"
      ],
      "text/plain": [
       "PassengerId    Survived      Pclass        Name         Sex         Age \n",
       "          0         418           0           0           0         263 \n",
       "      SibSp       Parch      Ticket        Fare       Cabin    Embarked \n",
       "          0           0           0           1           0           0 "
      ]
     },
     "metadata": {},
     "output_type": "display_data"
    },
    {
     "data": {
      "text/html": [
       "<dl class=dl-horizontal>\n",
       "\t<dt>PassengerId</dt>\n",
       "\t\t<dd>0</dd>\n",
       "\t<dt>Survived</dt>\n",
       "\t\t<dd>&lt;NA&gt;</dd>\n",
       "\t<dt>Pclass</dt>\n",
       "\t\t<dd>0</dd>\n",
       "\t<dt>Name</dt>\n",
       "\t\t<dd>0</dd>\n",
       "\t<dt>Sex</dt>\n",
       "\t\t<dd>0</dd>\n",
       "\t<dt>Age</dt>\n",
       "\t\t<dd>&lt;NA&gt;</dd>\n",
       "\t<dt>SibSp</dt>\n",
       "\t\t<dd>0</dd>\n",
       "\t<dt>Parch</dt>\n",
       "\t\t<dd>0</dd>\n",
       "\t<dt>Ticket</dt>\n",
       "\t\t<dd>0</dd>\n",
       "\t<dt>Fare</dt>\n",
       "\t\t<dd>&lt;NA&gt;</dd>\n",
       "\t<dt>Cabin</dt>\n",
       "\t\t<dd>1014</dd>\n",
       "\t<dt>Embarked</dt>\n",
       "\t\t<dd>2</dd>\n",
       "</dl>\n"
      ],
      "text/latex": [
       "\\begin{description*}\n",
       "\\item[PassengerId] 0\n",
       "\\item[Survived] <NA>\n",
       "\\item[Pclass] 0\n",
       "\\item[Name] 0\n",
       "\\item[Sex] 0\n",
       "\\item[Age] <NA>\n",
       "\\item[SibSp] 0\n",
       "\\item[Parch] 0\n",
       "\\item[Ticket] 0\n",
       "\\item[Fare] <NA>\n",
       "\\item[Cabin] 1014\n",
       "\\item[Embarked] 2\n",
       "\\end{description*}\n"
      ],
      "text/markdown": [
       "PassengerId\n",
       ":   0Survived\n",
       ":   &lt;NA&gt;Pclass\n",
       ":   0Name\n",
       ":   0Sex\n",
       ":   0Age\n",
       ":   &lt;NA&gt;SibSp\n",
       ":   0Parch\n",
       ":   0Ticket\n",
       ":   0Fare\n",
       ":   &lt;NA&gt;Cabin\n",
       ":   1014Embarked\n",
       ":   2\n",
       "\n"
      ],
      "text/plain": [
       "PassengerId    Survived      Pclass        Name         Sex         Age \n",
       "          0          NA           0           0           0          NA \n",
       "      SibSp       Parch      Ticket        Fare       Cabin    Embarked \n",
       "          0           0           0          NA        1014           2 "
      ]
     },
     "metadata": {},
     "output_type": "display_data"
    },
    {
     "data": {
      "text/html": [
       "<dl class=dl-horizontal>\n",
       "\t<dt>PassengerId</dt>\n",
       "\t\t<dd>1309</dd>\n",
       "\t<dt>Survived</dt>\n",
       "\t\t<dd>3</dd>\n",
       "\t<dt>Pclass</dt>\n",
       "\t\t<dd>3</dd>\n",
       "\t<dt>Name</dt>\n",
       "\t\t<dd>1307</dd>\n",
       "\t<dt>Sex</dt>\n",
       "\t\t<dd>2</dd>\n",
       "\t<dt>Age</dt>\n",
       "\t\t<dd>99</dd>\n",
       "\t<dt>SibSp</dt>\n",
       "\t\t<dd>7</dd>\n",
       "\t<dt>Parch</dt>\n",
       "\t\t<dd>8</dd>\n",
       "\t<dt>Ticket</dt>\n",
       "\t\t<dd>929</dd>\n",
       "\t<dt>Fare</dt>\n",
       "\t\t<dd>282</dd>\n",
       "\t<dt>Cabin</dt>\n",
       "\t\t<dd>187</dd>\n",
       "\t<dt>Embarked</dt>\n",
       "\t\t<dd>4</dd>\n",
       "</dl>\n"
      ],
      "text/latex": [
       "\\begin{description*}\n",
       "\\item[PassengerId] 1309\n",
       "\\item[Survived] 3\n",
       "\\item[Pclass] 3\n",
       "\\item[Name] 1307\n",
       "\\item[Sex] 2\n",
       "\\item[Age] 99\n",
       "\\item[SibSp] 7\n",
       "\\item[Parch] 8\n",
       "\\item[Ticket] 929\n",
       "\\item[Fare] 282\n",
       "\\item[Cabin] 187\n",
       "\\item[Embarked] 4\n",
       "\\end{description*}\n"
      ],
      "text/markdown": [
       "PassengerId\n",
       ":   1309Survived\n",
       ":   3Pclass\n",
       ":   3Name\n",
       ":   1307Sex\n",
       ":   2Age\n",
       ":   99SibSp\n",
       ":   7Parch\n",
       ":   8Ticket\n",
       ":   929Fare\n",
       ":   282Cabin\n",
       ":   187Embarked\n",
       ":   4\n",
       "\n"
      ],
      "text/plain": [
       "PassengerId    Survived      Pclass        Name         Sex         Age \n",
       "       1309           3           3        1307           2          99 \n",
       "      SibSp       Parch      Ticket        Fare       Cabin    Embarked \n",
       "          7           8         929         282         187           4 "
      ]
     },
     "metadata": {},
     "output_type": "display_data"
    },
    {
     "name": "stderr",
     "output_type": "stream",
     "text": [
      "\n",
      "Attaching package: 'dplyr'\n",
      "\n",
      "The following objects are masked from 'package:stats':\n",
      "\n",
      "    filter, lag\n",
      "\n",
      "The following objects are masked from 'package:base':\n",
      "\n",
      "    intersect, setdiff, setequal, union\n",
      "\n"
     ]
    }
   ],
   "source": [
    "## Setting Survived column for test data to NA\n",
    "titanic_test$Survived <- NA\n",
    "\n",
    "## Combining Training and Testing dataset\n",
    "complete_data <- rbind(titanic_train, titanic_test)\n",
    "\n",
    "## Check data structure\n",
    "str(complete_data)\n",
    "\n",
    "\n",
    "## Let's check for any missing values in the data\n",
    "colSums(is.na(complete_data))\n",
    "## PassengerId    Survived      Pclass        Name         Sex         Age \n",
    "##           0         418           0           0           0         263 \n",
    "##       SibSp       Parch      Ticket        Fare       Cabin    Embarked \n",
    "##           0           0           0           1           0           0\n",
    "\n",
    "## Checking for empty values\n",
    "colSums(complete_data=='')\n",
    "## PassengerId    Survived      Pclass        Name         Sex         Age \n",
    "##           0          NA           0           0           0          NA \n",
    "##       SibSp       Parch      Ticket        Fare       Cabin    Embarked \n",
    "##           0           0           0          NA        1014           2\n",
    "\n",
    "## Check number of uniques values for each of the column to find out columns which we can convert to factors\n",
    "sapply(complete_data, function(x) length(unique(x)))\n",
    "## PassengerId    Survived      Pclass        Name         Sex         Age \n",
    "##        1309           3           3        1307           2          99 \n",
    "##       SibSp       Parch      Ticket        Fare       Cabin    Embarked \n",
    "##           7           8         929         282         187           4\n",
    "\n",
    "## Missing values imputation\n",
    "complete_data$Embarked[complete_data$Embarked==\"\"] <- \"S\"\n",
    "complete_data$Age[is.na(complete_data$Age)] <- median(complete_data$Age,na.rm=T)\n",
    "\n",
    "## Removing Cabin as it has very high missing values, passengerId, Ticket and Name are not required\n",
    "library(dplyr)\n",
    "titanic_data <- complete_data %>% select(-c(Cabin, PassengerId, Ticket, Name))"
   ]
  },
  {
   "cell_type": "code",
   "execution_count": 15,
   "metadata": {},
   "outputs": [
    {
     "name": "stderr",
     "output_type": "stream",
     "text": [
      "dummies-1.5.6 provided by Decision Patterns\n",
      "\n"
     ]
    }
   ],
   "source": [
    "## Converting \"Survived\",\"Pclass\",\"Sex\",\"Embarked\" to factors\n",
    "for (i in c(\"Survived\",\"Pclass\",\"Sex\",\"Embarked\")){\n",
    "  titanic_data[,i]=as.factor(titanic_data[,i])\n",
    "}\n",
    "\n",
    "## Create dummy variables for categorical variables\n",
    "library(dummies)\n",
    "titanic_data <- dummy.data.frame(titanic_data, names=c(\"Pclass\",\"Sex\",\"Embarked\"), sep=\"_\")\n"
   ]
  },
  {
   "cell_type": "code",
   "execution_count": 17,
   "metadata": {},
   "outputs": [],
   "source": [
    "## Splitting training and test data\n",
    "train <- titanic_data[1:667,]\n",
    "test <- titanic_data[668:889,]\n"
   ]
  },
  {
   "cell_type": "code",
   "execution_count": 21,
   "metadata": {},
   "outputs": [
    {
     "data": {
      "text/plain": [
       "\n",
       "Call:\n",
       "glm(formula = Survived ~ ., family = binomial(link = \"logit\"), \n",
       "    data = train)\n",
       "\n",
       "Deviance Residuals: \n",
       "    Min       1Q   Median       3Q      Max  \n",
       "-2.3804  -0.6562  -0.4300   0.6392   2.3950  \n",
       "\n",
       "Coefficients: (3 not defined because of singularities)\n",
       "             Estimate Std. Error z value Pr(>|z|)    \n",
       "(Intercept) -1.373105   0.319779  -4.294 1.76e-05 ***\n",
       "Pclass_1     2.175104   0.359365   6.053 1.42e-09 ***\n",
       "Pclass_2     1.302268   0.271680   4.793 1.64e-06 ***\n",
       "Pclass_3           NA         NA      NA       NA    \n",
       "Sex_female   2.677814   0.226863  11.804  < 2e-16 ***\n",
       "Sex_male           NA         NA      NA       NA    \n",
       "Age         -0.031671   0.008945  -3.540 0.000399 ***\n",
       "SibSp       -0.248975   0.123365  -2.018 0.043570 *  \n",
       "Parch       -0.091603   0.141950  -0.645 0.518718    \n",
       "Fare        -0.001397   0.003179  -0.440 0.660254    \n",
       "Embarked_C   0.431447   0.271693   1.588 0.112288    \n",
       "Embarked_Q   0.533193   0.369337   1.444 0.148837    \n",
       "Embarked_S         NA         NA      NA       NA    \n",
       "---\n",
       "Signif. codes:  0 '***' 0.001 '**' 0.01 '*' 0.05 '.' 0.1 ' ' 1\n",
       "\n",
       "(Dispersion parameter for binomial family taken to be 1)\n",
       "\n",
       "    Null deviance: 891.99  on 666  degrees of freedom\n",
       "Residual deviance: 605.78  on 657  degrees of freedom\n",
       "AIC: 625.78\n",
       "\n",
       "Number of Fisher Scoring iterations: 5\n"
      ]
     },
     "metadata": {},
     "output_type": "display_data"
    }
   ],
   "source": [
    "## Model Creation\n",
    "model <- glm(Survived ~.,family=binomial(link='logit'),data=train) \n",
    "summary(model)"
   ]
  },
  {
   "cell_type": "code",
   "execution_count": 22,
   "metadata": {},
   "outputs": [
    {
     "data": {
      "text/html": [
       "<table>\n",
       "<thead><tr><th></th><th scope=col>Df</th><th scope=col>Deviance</th><th scope=col>Resid. Df</th><th scope=col>Resid. Dev</th><th scope=col>Pr(&gt;Chi)</th></tr></thead>\n",
       "<tbody>\n",
       "\t<tr><th scope=row>NULL</th><td>NA          </td><td>          NA</td><td>666         </td><td>891.9935    </td><td>          NA</td></tr>\n",
       "\t<tr><th scope=row>Pclass_1</th><td> 1          </td><td> 39.60284205</td><td>665         </td><td>852.3907    </td><td>3.112300e-10</td></tr>\n",
       "\t<tr><th scope=row>Pclass_2</th><td> 1          </td><td> 26.48541414</td><td>664         </td><td>825.9053    </td><td>2.655355e-07</td></tr>\n",
       "\t<tr><th scope=row>Pclass_3</th><td> 0          </td><td>  0.00000000</td><td>664         </td><td>825.9053    </td><td>          NA</td></tr>\n",
       "\t<tr><th scope=row>Sex_female</th><td> 1          </td><td>197.97805764</td><td>663         </td><td>627.9272    </td><td>5.768673e-45</td></tr>\n",
       "\t<tr><th scope=row>Sex_male</th><td> 0          </td><td>  0.00000000</td><td>663         </td><td>627.9272    </td><td>          NA</td></tr>\n",
       "\t<tr><th scope=row>Age</th><td> 1          </td><td>  8.98569376</td><td>662         </td><td>618.9415    </td><td>2.721015e-03</td></tr>\n",
       "\t<tr><th scope=row>SibSp</th><td> 1          </td><td>  8.11372509</td><td>661         </td><td>610.8278    </td><td>4.393136e-03</td></tr>\n",
       "\t<tr><th scope=row>Parch</th><td> 1          </td><td>  0.99761304</td><td>660         </td><td>609.8302    </td><td>3.178888e-01</td></tr>\n",
       "\t<tr><th scope=row>Fare</th><td> 1          </td><td>  0.04360609</td><td>659         </td><td>609.7866    </td><td>8.345882e-01</td></tr>\n",
       "\t<tr><th scope=row>Embarked_C</th><td> 1          </td><td>  1.93567522</td><td>658         </td><td>607.8509    </td><td>1.641389e-01</td></tr>\n",
       "\t<tr><th scope=row>Embarked_Q</th><td> 1          </td><td>  2.06732482</td><td>657         </td><td>605.7836    </td><td>1.504853e-01</td></tr>\n",
       "\t<tr><th scope=row>Embarked_S</th><td> 0          </td><td>  0.00000000</td><td>657         </td><td>605.7836    </td><td>          NA</td></tr>\n",
       "</tbody>\n",
       "</table>\n"
      ],
      "text/latex": [
       "\\begin{tabular}{r|lllll}\n",
       "  & Df & Deviance & Resid. Df & Resid. Dev & Pr(>Chi)\\\\\n",
       "\\hline\n",
       "\tNULL & NA           &           NA & 666          & 891.9935     &           NA\\\\\n",
       "\tPclass\\_1 &  1           &  39.60284205 & 665          & 852.3907     & 3.112300e-10\\\\\n",
       "\tPclass\\_2 &  1           &  26.48541414 & 664          & 825.9053     & 2.655355e-07\\\\\n",
       "\tPclass\\_3 &  0           &   0.00000000 & 664          & 825.9053     &           NA\\\\\n",
       "\tSex\\_female &  1           & 197.97805764 & 663          & 627.9272     & 5.768673e-45\\\\\n",
       "\tSex\\_male &  0           &   0.00000000 & 663          & 627.9272     &           NA\\\\\n",
       "\tAge &  1           &   8.98569376 & 662          & 618.9415     & 2.721015e-03\\\\\n",
       "\tSibSp &  1           &   8.11372509 & 661          & 610.8278     & 4.393136e-03\\\\\n",
       "\tParch &  1           &   0.99761304 & 660          & 609.8302     & 3.178888e-01\\\\\n",
       "\tFare &  1           &   0.04360609 & 659          & 609.7866     & 8.345882e-01\\\\\n",
       "\tEmbarked\\_C &  1           &   1.93567522 & 658          & 607.8509     & 1.641389e-01\\\\\n",
       "\tEmbarked\\_Q &  1           &   2.06732482 & 657          & 605.7836     & 1.504853e-01\\\\\n",
       "\tEmbarked\\_S &  0           &   0.00000000 & 657          & 605.7836     &           NA\\\\\n",
       "\\end{tabular}\n"
      ],
      "text/markdown": [
       "\n",
       "| <!--/--> | Df | Deviance | Resid. Df | Resid. Dev | Pr(>Chi) | \n",
       "|---|---|---|---|---|---|---|---|---|---|---|---|---|\n",
       "| NULL | NA           |           NA | 666          | 891.9935     |           NA | \n",
       "| Pclass_1 |  1           |  39.60284205 | 665          | 852.3907     | 3.112300e-10 | \n",
       "| Pclass_2 |  1           |  26.48541414 | 664          | 825.9053     | 2.655355e-07 | \n",
       "| Pclass_3 |  0           |   0.00000000 | 664          | 825.9053     |           NA | \n",
       "| Sex_female |  1           | 197.97805764 | 663          | 627.9272     | 5.768673e-45 | \n",
       "| Sex_male |  0           |   0.00000000 | 663          | 627.9272     |           NA | \n",
       "| Age |  1           |   8.98569376 | 662          | 618.9415     | 2.721015e-03 | \n",
       "| SibSp |  1           |   8.11372509 | 661          | 610.8278     | 4.393136e-03 | \n",
       "| Parch |  1           |   0.99761304 | 660          | 609.8302     | 3.178888e-01 | \n",
       "| Fare |  1           |   0.04360609 | 659          | 609.7866     | 8.345882e-01 | \n",
       "| Embarked_C |  1           |   1.93567522 | 658          | 607.8509     | 1.641389e-01 | \n",
       "| Embarked_Q |  1           |   2.06732482 | 657          | 605.7836     | 1.504853e-01 | \n",
       "| Embarked_S |  0           |   0.00000000 | 657          | 605.7836     |           NA | \n",
       "\n",
       "\n"
      ],
      "text/plain": [
       "           Df Deviance     Resid. Df Resid. Dev Pr(>Chi)    \n",
       "NULL       NA           NA 666       891.9935             NA\n",
       "Pclass_1    1  39.60284205 665       852.3907   3.112300e-10\n",
       "Pclass_2    1  26.48541414 664       825.9053   2.655355e-07\n",
       "Pclass_3    0   0.00000000 664       825.9053             NA\n",
       "Sex_female  1 197.97805764 663       627.9272   5.768673e-45\n",
       "Sex_male    0   0.00000000 663       627.9272             NA\n",
       "Age         1   8.98569376 662       618.9415   2.721015e-03\n",
       "SibSp       1   8.11372509 661       610.8278   4.393136e-03\n",
       "Parch       1   0.99761304 660       609.8302   3.178888e-01\n",
       "Fare        1   0.04360609 659       609.7866   8.345882e-01\n",
       "Embarked_C  1   1.93567522 658       607.8509   1.641389e-01\n",
       "Embarked_Q  1   2.06732482 657       605.7836   1.504853e-01\n",
       "Embarked_S  0   0.00000000 657       605.7836             NA"
      ]
     },
     "metadata": {},
     "output_type": "display_data"
    }
   ],
   "source": [
    "## Using anova() to analyze the table of devaiance\n",
    "anova(model, test=\"Chisq\")\n"
   ]
  },
  {
   "cell_type": "code",
   "execution_count": 24,
   "metadata": {},
   "outputs": [
    {
     "name": "stderr",
     "output_type": "stream",
     "text": [
      "Warning message in predict.lm(object, newdata, se.fit, scale = 1, type = ifelse(type == :\n",
      "\"prediction from a rank-deficient fit may be misleading\""
     ]
    },
    {
     "ename": "ERROR",
     "evalue": "Error: package e1071 is required\n",
     "output_type": "error",
     "traceback": [
      "Error: package e1071 is required\nTraceback:\n",
      "1. confusionMatrix(data = result, reference = test$Survived)",
      "2. confusionMatrix.default(data = result, reference = test$Survived)",
      "3. getFromNamespace(\"confusionMatrix.table\", \"caret\")(classTable, \n .     positive, prevalence = prevalence, mode = mode)",
      "4. requireNamespaceQuietStop(\"e1071\")",
      "5. stop(paste(\"package\", package, \"is required\"), call. = FALSE)"
     ]
    }
   ],
   "source": [
    "## Predicting Test Data\n",
    "result <- predict(model,newdata=test,type='response')\n",
    "result <- ifelse(result > 0.5,1,0)\n",
    "\n",
    "## Confusion matrix and statistics\n",
    "library(caret)\n",
    "confusionMatrix(data=result, reference=test$Survived)\n",
    "## Confusion Matrix and Statistics\n",
    "## \n",
    "##           Reference\n",
    "## Prediction   0   1\n",
    "##          0 128  25\n",
    "##          1  13  56\n",
    "##                                           \n",
    "##                Accuracy : 0.8288          \n",
    "##                  95% CI : (0.7727, 0.8759)\n",
    "##     No Information Rate : 0.6351          \n",
    "##     P-Value [Acc > NIR] : 1.817e-10       \n",
    "##                                           \n",
    "##                   Kappa : 0.6187          \n",
    "##  Mcnemar's Test P-Value : 0.07435         \n",
    "##                                           \n",
    "##             Sensitivity : 0.9078          \n",
    "##             Specificity : 0.6914          \n",
    "##          Pos Pred Value : 0.8366          \n",
    "##          Neg Pred Value : 0.8116          \n",
    "##              Prevalence : 0.6351          \n",
    "##          Detection Rate : 0.5766          \n",
    "##    Detection Prevalence : 0.6892          \n",
    "##       Balanced Accuracy : 0.7996          \n",
    "##                                           \n",
    "##        'Positive' Class : 0               \n",
    "## "
   ]
  },
  {
   "cell_type": "code",
   "execution_count": null,
   "metadata": {},
   "outputs": [],
   "source": [
    "## ROC Curve and calculating the area under the curve(AUC)\n",
    "library(ROCR)\n",
    "predictions <- predict(model, newdata=test, type=\"response\")\n",
    "ROCRpred <- prediction(predictions, test$Survived)\n",
    "ROCRperf <- performance(ROCRpred, measure = \"tpr\", x.measure = \"fpr\")\n",
    "\n",
    "plot(ROCRperf, colorize = TRUE, text.adj = c(-0.2,1.7), print.cutoffs.at = seq(0,1,0.1))"
   ]
  },
  {
   "cell_type": "code",
   "execution_count": null,
   "metadata": {},
   "outputs": [],
   "source": [
    "auc <- performance(ROCRpred, measure = \"auc\")\n",
    "auc <- auc@y.values[[1]]\n",
    "auc\n"
   ]
  }
 ],
 "metadata": {
  "kernelspec": {
   "display_name": "R",
   "language": "R",
   "name": "ir"
  }
 },
 "nbformat": 4,
 "nbformat_minor": 2
}
