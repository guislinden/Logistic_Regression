{
 "cells": [
  {
   "cell_type": "markdown",
   "metadata": {},
   "source": [
    "## Regressão Logística com o R\n",
    "\n",
    "Olá! \n",
    "\n",
    "Para começarmos a regressão logística, precisaremos destas seguintes bibliotecas no R. Caso não tenha alguma delas, poderá inserir o código `install.packages(\"packagename\")`. "
   ]
  },
  {
   "cell_type": "code",
   "execution_count": 143,
   "metadata": {
    "scrolled": false
   },
   "outputs": [
    {
     "data": {
      "text/html": [
       "<table>\n",
       "<thead><tr><th scope=col>Respondent.ID</th><th scope=col>Product.ID</th><th scope=col>Product</th><th scope=col>q1_1.personal.opinion.of.this.Deodorant</th><th scope=col>q2_all.words</th><th scope=col>q3_1.strength.of.the.Deodorant</th><th scope=col>q4_1.artificial.chemical</th><th scope=col>q4_2.attractive</th><th scope=col>q4_3.bold</th><th scope=col>q4_4.boring</th><th scope=col>...</th><th scope=col>ValSegb</th><th scope=col>s7.involved.in.the.selection.of.the.cosmetic.products</th><th scope=col>s8.ethnic.background</th><th scope=col>s9.education</th><th scope=col>s10.income</th><th scope=col>s11.marital.status</th><th scope=col>s12.working.status</th><th scope=col>s13.2</th><th scope=col>s13a.b.most.often</th><th scope=col>s13b.bottles.of.Deodorant.do.you.currently.own</th></tr></thead>\n",
       "<tbody>\n",
       "\t<tr><td>4300       </td><td>121        </td><td>Deodorant B</td><td>7          </td><td>2          </td><td>3          </td><td>3          </td><td>1          </td><td>4          </td><td>2          </td><td>...        </td><td>7          </td><td>4          </td><td>2          </td><td>3          </td><td> 2         </td><td>2          </td><td>1          </td><td>0          </td><td>0          </td><td>4          </td></tr>\n",
       "\t<tr><td>4301       </td><td>121        </td><td>Deodorant B</td><td>6          </td><td>0          </td><td>3          </td><td>2          </td><td>4          </td><td>2          </td><td>1          </td><td>...        </td><td>1          </td><td>4          </td><td>1          </td><td>4          </td><td> 4         </td><td>1          </td><td>1          </td><td>0          </td><td>0          </td><td>1          </td></tr>\n",
       "\t<tr><td>4302       </td><td>121        </td><td>Deodorant B</td><td>6          </td><td>1          </td><td>3          </td><td>3          </td><td>5          </td><td>3          </td><td>3          </td><td>...        </td><td>6          </td><td>4          </td><td>1          </td><td>3          </td><td> 3         </td><td>1          </td><td>1          </td><td>0          </td><td>0          </td><td>6          </td></tr>\n",
       "\t<tr><td>4303       </td><td>121        </td><td>Deodorant B</td><td>5          </td><td>1          </td><td>5          </td><td>3          </td><td>4          </td><td>5          </td><td>2          </td><td>...        </td><td>2          </td><td>4          </td><td>2          </td><td>3          </td><td>10         </td><td>1          </td><td>1          </td><td>0          </td><td>0          </td><td>4          </td></tr>\n",
       "\t<tr><td>4304       </td><td>121        </td><td>Deodorant B</td><td>6          </td><td>2          </td><td>3          </td><td>2          </td><td>4          </td><td>3          </td><td>1          </td><td>...        </td><td>5          </td><td>4          </td><td>1          </td><td>2          </td><td> 3         </td><td>3          </td><td>1          </td><td>0          </td><td>0          </td><td>4          </td></tr>\n",
       "\t<tr><td>4305       </td><td>121        </td><td>Deodorant B</td><td>7          </td><td>4          </td><td>3          </td><td>2          </td><td>4          </td><td>4          </td><td>2          </td><td>...        </td><td>2          </td><td>4          </td><td>2          </td><td>3          </td><td> 2         </td><td>2          </td><td>1          </td><td>0          </td><td>0          </td><td>1          </td></tr>\n",
       "</tbody>\n",
       "</table>\n"
      ],
      "text/latex": [
       "\\begin{tabular}{r|llllllllllllllllllllllllllllllllllllllllllllllllllllllllll}\n",
       " Respondent.ID & Product.ID & Product & q1\\_1.personal.opinion.of.this.Deodorant & q2\\_all.words & q3\\_1.strength.of.the.Deodorant & q4\\_1.artificial.chemical & q4\\_2.attractive & q4\\_3.bold & q4\\_4.boring & ... & ValSegb & s7.involved.in.the.selection.of.the.cosmetic.products & s8.ethnic.background & s9.education & s10.income & s11.marital.status & s12.working.status & s13.2 & s13a.b.most.often & s13b.bottles.of.Deodorant.do.you.currently.own\\\\\n",
       "\\hline\n",
       "\t 4300        & 121         & Deodorant B & 7           & 2           & 3           & 3           & 1           & 4           & 2           & ...         & 7           & 4           & 2           & 3           &  2          & 2           & 1           & 0           & 0           & 4          \\\\\n",
       "\t 4301        & 121         & Deodorant B & 6           & 0           & 3           & 2           & 4           & 2           & 1           & ...         & 1           & 4           & 1           & 4           &  4          & 1           & 1           & 0           & 0           & 1          \\\\\n",
       "\t 4302        & 121         & Deodorant B & 6           & 1           & 3           & 3           & 5           & 3           & 3           & ...         & 6           & 4           & 1           & 3           &  3          & 1           & 1           & 0           & 0           & 6          \\\\\n",
       "\t 4303        & 121         & Deodorant B & 5           & 1           & 5           & 3           & 4           & 5           & 2           & ...         & 2           & 4           & 2           & 3           & 10          & 1           & 1           & 0           & 0           & 4          \\\\\n",
       "\t 4304        & 121         & Deodorant B & 6           & 2           & 3           & 2           & 4           & 3           & 1           & ...         & 5           & 4           & 1           & 2           &  3          & 3           & 1           & 0           & 0           & 4          \\\\\n",
       "\t 4305        & 121         & Deodorant B & 7           & 4           & 3           & 2           & 4           & 4           & 2           & ...         & 2           & 4           & 2           & 3           &  2          & 2           & 1           & 0           & 0           & 1          \\\\\n",
       "\\end{tabular}\n"
      ],
      "text/markdown": [
       "\n",
       "Respondent.ID | Product.ID | Product | q1_1.personal.opinion.of.this.Deodorant | q2_all.words | q3_1.strength.of.the.Deodorant | q4_1.artificial.chemical | q4_2.attractive | q4_3.bold | q4_4.boring | ... | ValSegb | s7.involved.in.the.selection.of.the.cosmetic.products | s8.ethnic.background | s9.education | s10.income | s11.marital.status | s12.working.status | s13.2 | s13a.b.most.often | s13b.bottles.of.Deodorant.do.you.currently.own | \n",
       "|---|---|---|---|---|---|\n",
       "| 4300        | 121         | Deodorant B | 7           | 2           | 3           | 3           | 1           | 4           | 2           | ...         | 7           | 4           | 2           | 3           |  2          | 2           | 1           | 0           | 0           | 4           | \n",
       "| 4301        | 121         | Deodorant B | 6           | 0           | 3           | 2           | 4           | 2           | 1           | ...         | 1           | 4           | 1           | 4           |  4          | 1           | 1           | 0           | 0           | 1           | \n",
       "| 4302        | 121         | Deodorant B | 6           | 1           | 3           | 3           | 5           | 3           | 3           | ...         | 6           | 4           | 1           | 3           |  3          | 1           | 1           | 0           | 0           | 6           | \n",
       "| 4303        | 121         | Deodorant B | 5           | 1           | 5           | 3           | 4           | 5           | 2           | ...         | 2           | 4           | 2           | 3           | 10          | 1           | 1           | 0           | 0           | 4           | \n",
       "| 4304        | 121         | Deodorant B | 6           | 2           | 3           | 2           | 4           | 3           | 1           | ...         | 5           | 4           | 1           | 2           |  3          | 3           | 1           | 0           | 0           | 4           | \n",
       "| 4305        | 121         | Deodorant B | 7           | 4           | 3           | 2           | 4           | 4           | 2           | ...         | 2           | 4           | 2           | 3           |  2          | 2           | 1           | 0           | 0           | 1           | \n",
       "\n",
       "\n"
      ],
      "text/plain": [
       "  Respondent.ID Product.ID Product     q1_1.personal.opinion.of.this.Deodorant\n",
       "1 4300          121        Deodorant B 7                                      \n",
       "2 4301          121        Deodorant B 6                                      \n",
       "3 4302          121        Deodorant B 6                                      \n",
       "4 4303          121        Deodorant B 5                                      \n",
       "5 4304          121        Deodorant B 6                                      \n",
       "6 4305          121        Deodorant B 7                                      \n",
       "  q2_all.words q3_1.strength.of.the.Deodorant q4_1.artificial.chemical\n",
       "1 2            3                              3                       \n",
       "2 0            3                              2                       \n",
       "3 1            3                              3                       \n",
       "4 1            5                              3                       \n",
       "5 2            3                              2                       \n",
       "6 4            3                              2                       \n",
       "  q4_2.attractive q4_3.bold q4_4.boring ... ValSegb\n",
       "1 1               4         2           ... 7      \n",
       "2 4               2         1           ... 1      \n",
       "3 5               3         3           ... 6      \n",
       "4 4               5         2           ... 2      \n",
       "5 4               3         1           ... 5      \n",
       "6 4               4         2           ... 2      \n",
       "  s7.involved.in.the.selection.of.the.cosmetic.products s8.ethnic.background\n",
       "1 4                                                     2                   \n",
       "2 4                                                     1                   \n",
       "3 4                                                     1                   \n",
       "4 4                                                     2                   \n",
       "5 4                                                     1                   \n",
       "6 4                                                     2                   \n",
       "  s9.education s10.income s11.marital.status s12.working.status s13.2\n",
       "1 3             2         2                  1                  0    \n",
       "2 4             4         1                  1                  0    \n",
       "3 3             3         1                  1                  0    \n",
       "4 3            10         1                  1                  0    \n",
       "5 2             3         3                  1                  0    \n",
       "6 3             2         2                  1                  0    \n",
       "  s13a.b.most.often s13b.bottles.of.Deodorant.do.you.currently.own\n",
       "1 0                 4                                             \n",
       "2 0                 1                                             \n",
       "3 0                 6                                             \n",
       "4 0                 4                                             \n",
       "5 0                 4                                             \n",
       "6 0                 1                                             "
      ]
     },
     "metadata": {},
     "output_type": "display_data"
    }
   ],
   "source": [
    "#Aqui já carregaremos todas as bibliotecas que usaremos nesse exercício de R \n",
    "library(XML)\n",
    "library(titanic) \n",
    "library(aod)\n",
    "library(ggplot2)\n",
    "library(corrplot)\n",
    "library(caret)\n",
    "library(ROCR)\n",
    "\n",
    "#Vamos pegar a nossa dataset\n",
    "df <-read.csv(\"https://raw.githubusercontent.com/guislinden/Logistic_Regression/master/Data_train_reduced.csv\", sep = \",\")\n",
    "#com essa função, poderemos ver o cabeçalho dos nossos dados para entender o que ele é e como ele está estruturado. \n",
    "head(data)"
   ]
  },
  {
   "cell_type": "markdown",
   "metadata": {},
   "source": [
    "#### Contexto\n",
    "Dados que uma pesquisa de demanda para uma perfumaria, onde foi apontado diversas perguntas e dados no contexto de ver se um indivíduo gostava ou não instantaneamente de um perfume, o que aumentava drasticamente suas chances de adquiri-lo. \n",
    "\n",
    "#### Conteúdo \n",
    "##### Variável Dependente\n",
    "- Instant Liking\n",
    "\n",
    "##### Variáveis Independentes \n",
    "- ID do respondente \n",
    "- ID do produto\n",
    "- \n",
    "- \n",
    "- \n",
    "\n",
    "#### Objetivo\n",
    "Visualizar quais as principais variáveis para que um indivíduo possa vir a admirar o perfume instantaneamente, utilizando Regressão Logística. "
   ]
  },
  {
   "cell_type": "code",
   "execution_count": 114,
   "metadata": {
    "scrolled": true
   },
   "outputs": [
    {
     "data": {
      "image/png": "[encoded data removed]",
      "text/plain": [
       "Plot with title \"Missingness Map\""
      ]
     },
     "metadata": {},
     "output_type": "display_data"
    }
   ],
   "source": [
    "#Aqui vamos visualizar valores que podem estar faltando\n",
    "library(Amelia)\n",
    "library(mlbench)\n",
    "missmap(df, col=c(\"blue\", \"red\"), legend=FALSE)\n"
   ]
  },
  {
   "cell_type": "code",
   "execution_count": 174,
   "metadata": {
    "scrolled": false
   },
   "outputs": [
    {
     "data": {
      "image/png": "[encoded data removed]",
      "text/plain": [
       "Plot with title \"Missingness Map\""
      ]
     },
     "metadata": {},
     "output_type": "display_data"
    }
   ],
   "source": [
    "#Vamos remover as variáveis desnecessárias\n",
    "df2<-df\n",
    "df2$Respondent.ID <- NULL\n",
    "df2$Product.ID <- NULL\n",
    "df2$Product <- NULL\n",
    "df2$q7  <- NULL\n",
    "df2$q8.1  <- NULL\n",
    "df2$q8.2  <- NULL\n",
    "df2$q8.5  <- NULL\n",
    "df2$q8.6  <- NULL\n",
    "df2$q8.7  <- NULL\n",
    "df2$q8.8  <- NULL\n",
    "df2$q8.9  <- NULL\n",
    "df2$q8.10  <- NULL\n",
    "df2$q8.11 <- NULL\n",
    "df2$q8.12  <- NULL\n",
    "df2$q8.13  <- NULL\n",
    "df2$q8.17  <- NULL\n",
    "df2$q8.18  <- NULL\n",
    "df2$q8.19  <- NULL\n",
    "df2$q8.20  <- NULL\n",
    "df2$q8.1  <- NULL\n",
    "\n",
    "#E visualizar como está nosso mapa de valores faltando\n",
    "missmap(df2, col=c(\"blue\", \"red\"), legend=FALSE)\n"
   ]
  },
  {
   "cell_type": "code",
   "execution_count": 179,
   "metadata": {},
   "outputs": [],
   "source": [
    "#Vamos dividir entre variáveis dependentes e variáveis indepentendes\n",
    "train <- df2[1:1500,]\n",
    "test <- df2[1501:2500,]"
   ]
  },
  {
   "cell_type": "code",
   "execution_count": null,
   "metadata": {},
   "outputs": [],
   "source": []
  },
  {
   "cell_type": "code",
   "execution_count": 180,
   "metadata": {
    "scrolled": true
   },
   "outputs": [
    {
     "name": "stderr",
     "output_type": "stream",
     "text": [
      "Warning message:\n",
      "\"glm.fit: algorithm did not converge\"Warning message:\n",
      "\"glm.fit: fitted probabilities numerically 0 or 1 occurred\""
     ]
    }
   ],
   "source": [
    "model <- glm(Instant.Liking ~.,family=binomial(link='logit'),data=train)\n"
   ]
  },
  {
   "cell_type": "code",
   "execution_count": 181,
   "metadata": {},
   "outputs": [
    {
     "data": {
      "text/plain": [
       "\n",
       "Call:\n",
       "glm(formula = Instant.Liking ~ ., family = binomial(link = \"logit\"), \n",
       "    data = train)\n",
       "\n",
       "Deviance Residuals: \n",
       "       Min          1Q      Median          3Q         Max  \n",
       "-1.330e-05  -6.662e-06  -2.110e-08   2.110e-08   1.422e-05  \n",
       "\n",
       "Coefficients: (1 not defined because of singularities)\n",
       "                                                          Estimate Std. Error\n",
       "(Intercept)                                              2.149e+02  7.926e+04\n",
       "q1_1.personal.opinion.of.this.Deodorant                 -4.767e+01  7.776e+03\n",
       "q2_all.words                                             1.556e-02  4.227e+03\n",
       "q3_1.strength.of.the.Deodorant                           8.236e-04  5.403e+03\n",
       "q4_1.artificial.chemical                                 3.201e-02  2.885e+03\n",
       "q4_2.attractive                                          3.326e-02  3.175e+03\n",
       "q4_3.bold                                                1.699e-02  3.213e+03\n",
       "q4_4.boring                                             -5.110e-02  3.448e+03\n",
       "q4_5.casual                                              3.833e-02  3.124e+03\n",
       "q4_6.cheap                                              -3.219e-02  3.099e+03\n",
       "q4_7.clean                                              -9.032e-04  3.303e+03\n",
       "q4_8.easy.to.wear                                        1.689e-02  3.210e+03\n",
       "q4_9.elegant                                             1.580e-02  3.179e+03\n",
       "q4_10.feminine                                           3.114e-02  3.354e+03\n",
       "q4_11.for.someone.like.me                               -7.366e-02  2.896e+03\n",
       "q4_12.heavy                                             -4.632e-02  2.696e+03\n",
       "q4_13.high.quality                                       4.804e-02  3.447e+03\n",
       "q4_14.long.lasting                                       2.881e-02  3.730e+03\n",
       "q4_15.masculine                                         -2.871e-02  3.150e+03\n",
       "q4_16.memorable                                         -4.398e-03  3.422e+03\n",
       "q4_17.natural                                            5.424e-02  3.054e+03\n",
       "q4_18.old.fashioned                                     -7.854e-03  2.795e+03\n",
       "q4_19.ordinary                                          -4.279e-02  3.124e+03\n",
       "q4_20.overpowering                                      -6.827e-02  2.812e+03\n",
       "q4_21.sharp                                             -5.593e-02  3.040e+03\n",
       "q4_22.sophisticated                                     -4.684e-02  3.044e+03\n",
       "q4_23.upscale                                            2.649e-04  3.176e+03\n",
       "q4_24.well.rounded                                      -7.263e-02  3.282e+03\n",
       "q5_1.Deodorant.is.addictive                              2.381e-02  3.181e+03\n",
       "q9.how.likely.would.you.be.to.purchase.this.Deodorant    1.532e-02  2.921e+03\n",
       "q10.prefer.this.Deodorant.or.your.usual.Deodorant        8.141e-02  2.950e+03\n",
       "q11.time.of.day.would.this.Deodorant.be.appropriate     -8.599e-02  4.929e+03\n",
       "q12.which.occasions.would.this.Deodorant.be.appropriate  9.139e-03  4.732e+03\n",
       "Q13_Liking.after.30.minutes                             -1.819e-02  2.239e+03\n",
       "q14.Deodorant.overall.on.a.scale.from.1.to.10           -1.425e-03  1.628e+03\n",
       "ValSegb                                                  9.437e-03  2.014e+03\n",
       "s7.involved.in.the.selection.of.the.cosmetic.products           NA         NA\n",
       "s8.ethnic.background                                    -2.382e-02  3.826e+03\n",
       "s9.education                                            -7.715e-02  4.008e+03\n",
       "s10.income                                              -1.816e-02  1.671e+03\n",
       "s11.marital.status                                       3.245e-02  5.649e+03\n",
       "s12.working.status                                       2.094e-02  2.687e+03\n",
       "s13.2                                                   -7.854e-01  7.241e+04\n",
       "s13a.b.most.often                                       -3.831e-01  6.522e+04\n",
       "s13b.bottles.of.Deodorant.do.you.currently.own          -4.917e-03  2.440e+03\n",
       "                                                        z value Pr(>|z|)\n",
       "(Intercept)                                               0.003    0.998\n",
       "q1_1.personal.opinion.of.this.Deodorant                  -0.006    0.995\n",
       "q2_all.words                                              0.000    1.000\n",
       "q3_1.strength.of.the.Deodorant                            0.000    1.000\n",
       "q4_1.artificial.chemical                                  0.000    1.000\n",
       "q4_2.attractive                                           0.000    1.000\n",
       "q4_3.bold                                                 0.000    1.000\n",
       "q4_4.boring                                               0.000    1.000\n",
       "q4_5.casual                                               0.000    1.000\n",
       "q4_6.cheap                                                0.000    1.000\n",
       "q4_7.clean                                                0.000    1.000\n",
       "q4_8.easy.to.wear                                         0.000    1.000\n",
       "q4_9.elegant                                              0.000    1.000\n",
       "q4_10.feminine                                            0.000    1.000\n",
       "q4_11.for.someone.like.me                                 0.000    1.000\n",
       "q4_12.heavy                                               0.000    1.000\n",
       "q4_13.high.quality                                        0.000    1.000\n",
       "q4_14.long.lasting                                        0.000    1.000\n",
       "q4_15.masculine                                           0.000    1.000\n",
       "q4_16.memorable                                           0.000    1.000\n",
       "q4_17.natural                                             0.000    1.000\n",
       "q4_18.old.fashioned                                       0.000    1.000\n",
       "q4_19.ordinary                                            0.000    1.000\n",
       "q4_20.overpowering                                        0.000    1.000\n",
       "q4_21.sharp                                               0.000    1.000\n",
       "q4_22.sophisticated                                       0.000    1.000\n",
       "q4_23.upscale                                             0.000    1.000\n",
       "q4_24.well.rounded                                        0.000    1.000\n",
       "q5_1.Deodorant.is.addictive                               0.000    1.000\n",
       "q9.how.likely.would.you.be.to.purchase.this.Deodorant     0.000    1.000\n",
       "q10.prefer.this.Deodorant.or.your.usual.Deodorant         0.000    1.000\n",
       "q11.time.of.day.would.this.Deodorant.be.appropriate       0.000    1.000\n",
       "q12.which.occasions.would.this.Deodorant.be.appropriate   0.000    1.000\n",
       "Q13_Liking.after.30.minutes                               0.000    1.000\n",
       "q14.Deodorant.overall.on.a.scale.from.1.to.10             0.000    1.000\n",
       "ValSegb                                                   0.000    1.000\n",
       "s7.involved.in.the.selection.of.the.cosmetic.products        NA       NA\n",
       "s8.ethnic.background                                      0.000    1.000\n",
       "s9.education                                              0.000    1.000\n",
       "s10.income                                                0.000    1.000\n",
       "s11.marital.status                                        0.000    1.000\n",
       "s12.working.status                                        0.000    1.000\n",
       "s13.2                                                     0.000    1.000\n",
       "s13a.b.most.often                                         0.000    1.000\n",
       "s13b.bottles.of.Deodorant.do.you.currently.own            0.000    1.000\n",
       "\n",
       "(Dispersion parameter for binomial family taken to be 1)\n",
       "\n",
       "    Null deviance: 1.6892e+03  on 1499  degrees of freedom\n",
       "Residual deviance: 5.0179e-08  on 1456  degrees of freedom\n",
       "AIC: 88\n",
       "\n",
       "Number of Fisher Scoring iterations: 25\n"
      ]
     },
     "metadata": {},
     "output_type": "display_data"
    }
   ],
   "source": [
    "summary(model)"
   ]
  }
 ],
 "metadata": {
  "kernelspec": {
   "display_name": "R",
   "language": "R",
   "name": "ir"
  },
  "language_info": {
   "codemirror_mode": "r",
   "file_extension": ".r",
   "mimetype": "text/x-r-source",
   "name": "R",
   "pygments_lexer": "r",
   "version": "3.4.3"
  }
 },
 "nbformat": 4,
 "nbformat_minor": 2
}
